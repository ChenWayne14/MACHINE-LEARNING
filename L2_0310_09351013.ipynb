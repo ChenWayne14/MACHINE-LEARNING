{
 "cells": [
  {
   "cell_type": "markdown",
   "metadata": {},
   "source": [
    "if statements條件敘述\n",
    "if condition1:\n",
    "    statement1\n",
    "elif condition2:\n",
    "    statement2\n",
    "elif condition3:\n",
    "    statement3\n",
    "else:\n",
    "    statement(n+1)\n",
    "\n",
    "條件後要加:\n",
    "敘述要內縮, 常用四個空格\n",
    "else後要加:"
   ]
  },
  {
   "cell_type": "markdown",
   "metadata": {},
   "source": [
    "range(n), 從0到n-1\n",
    "range(initial value, end value, step value)\n",
    "從initial value到end value間隔step value, step預設為1, step為1時可以不輸入"
   ]
  },
  {
   "cell_type": "code",
   "execution_count": null,
   "metadata": {},
   "outputs": [],
   "source": [
    "# abs(x) 傳回數值的絕對值\n",
    "# round(x) 傳回最接近X的整數\n",
    "# round(x,n) 傳回X四捨五入後的值, 小數點後n個位置"
   ]
  },
  {
   "cell_type": "markdown",
   "metadata": {},
   "source": [
    "def FunctionName(parameter1, parameter2, paremeter3):\n",
    "    statements\n",
    "    return / return value"
   ]
  },
  {
   "cell_type": "code",
   "execution_count": 1,
   "metadata": {},
   "outputs": [
    {
     "name": "stdout",
     "output_type": "stream",
     "text": [
      "今天是你生日嗎? True or FlaseTrue\n",
      "請輸入車速...56\n",
      "Small Ticket\n"
     ]
    }
   ],
   "source": [
    "birthday = eval(input('今天是你生日嗎? True or Flase'))\n",
    "speed = eval(input('請輸入車速...'))\n",
    "if birthday == True:\n",
    "    speed = speed + 5\n",
    "    if speed <= 60:\n",
    "        print('No ticket')\n",
    "    elif speed <= 80:\n",
    "        print('Small Ticket')\n",
    "    elif speed >= 81:\n",
    "        print('Big Ticket')\n",
    "else:\n",
    "    if speed <= 60:\n",
    "        print('No ticket')\n",
    "    elif speed <= 80:\n",
    "        print('Small Ticket')\n",
    "    elif speed >= 81:\n",
    "        print('Big Ticket')"
   ]
  },
  {
   "cell_type": "code",
   "execution_count": 2,
   "metadata": {},
   "outputs": [
    {
     "name": "stdout",
     "output_type": "stream",
     "text": [
      "請輸入一個數字:73\n",
      "73 是質數\n"
     ]
    }
   ],
   "source": [
    "num = int(input('請輸入一個數字:'))\n",
    "if num > 1:\n",
    "    for i in range(2, num):\n",
    "        if (num % i) == 0:\n",
    "            print(num, '不是質數') \n",
    "            break \n",
    "    else:\n",
    "        print(num, '是質數') \n",
    "else:\n",
    "    print(num, '不是質數') "
   ]
  },
  {
   "cell_type": "code",
   "execution_count": 3,
   "metadata": {},
   "outputs": [
    {
     "name": "stdout",
     "output_type": "stream",
     "text": [
      "請使用者輸入密碼:1234\n",
      "輸入的密碼正確\n"
     ]
    }
   ],
   "source": [
    "password = eval(input('請使用者輸入密碼:'))\n",
    "if password == 1234:\n",
    "    print('輸入的密碼正確')\n",
    "else:\n",
    "    print('你輸入的密碼錯誤')"
   ]
  },
  {
   "cell_type": "code",
   "execution_count": null,
   "metadata": {},
   "outputs": [],
   "source": []
  }
 ],
 "metadata": {
  "kernelspec": {
   "display_name": "Python 3",
   "language": "python",
   "name": "python3"
  },
  "language_info": {
   "codemirror_mode": {
    "name": "ipython",
    "version": 3
   },
   "file_extension": ".py",
   "mimetype": "text/x-python",
   "name": "python",
   "nbconvert_exporter": "python",
   "pygments_lexer": "ipython3",
   "version": "3.8.5"
  }
 },
 "nbformat": 4,
 "nbformat_minor": 4
}
